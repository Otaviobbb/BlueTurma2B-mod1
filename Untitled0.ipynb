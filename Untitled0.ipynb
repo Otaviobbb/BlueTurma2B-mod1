{
  "nbformat": 4,
  "nbformat_minor": 0,
  "metadata": {
    "colab": {
      "name": "Untitled0.ipynb",
      "provenance": [],
      "authorship_tag": "ABX9TyNE6E7r42nJGOk1lU5mP0l/",
      "include_colab_link": true
    },
    "kernelspec": {
      "name": "python3",
      "display_name": "Python 3"
    },
    "language_info": {
      "name": "python"
    }
  },
  "cells": [
    {
      "cell_type": "markdown",
      "metadata": {
        "id": "view-in-github",
        "colab_type": "text"
      },
      "source": [
        "<a href=\"https://colab.research.google.com/github/Otaviobbb/BlueTurma2B-mod1/blob/main/Untitled0.ipynb\" target=\"_parent\"><img src=\"https://colab.research.google.com/assets/colab-badge.svg\" alt=\"Open In Colab\"/></a>"
      ]
    },
    {
      "cell_type": "code",
      "metadata": {
        "colab": {
          "base_uri": "https://localhost:8080/"
        },
        "id": "IOvK6YQ4PUuB",
        "outputId": "f7f80f99-9b70-487e-bf37-8aef772deb06"
      },
      "source": [
        "#Exercicio 1\n",
        "\n",
        "n1 = int(input(\"Digite um número: \"))\n",
        "n2 = int(input(\"Digite um número: \"))\n",
        "n3 = int(input(\"Digite um número: \"))\n",
        "if n1 < n2:\n",
        "  print(\"Esse é o menor número: \", n1)\n",
        "elif n2 < n3:\n",
        "  print(\"Esse é o menor número: \", n2)\n",
        "elif n3 < n1:\n",
        "  print(\"Esse é o menor número: \", n3)\n",
        "else:\n",
        "  print(\"não ha número menor!1\")  \n",
        "      \n",
        "\n",
        "\n",
        "\n",
        "\n",
        "\n"
      ],
      "execution_count": 20,
      "outputs": [
        {
          "output_type": "stream",
          "text": [
            "Digite um número: 10\n",
            "Digite um número: 10\n",
            "Digite um número: 10\n",
            "não ha número menor!\n"
          ],
          "name": "stdout"
        }
      ]
    }
  ]
}